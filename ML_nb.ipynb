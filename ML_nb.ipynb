{
 "cells": [
  {
   "cell_type": "code",
   "execution_count": 2,
   "metadata": {},
   "outputs": [],
   "source": [
    "import numpy as np"
   ]
  },
  {
   "cell_type": "code",
   "execution_count": 3,
   "metadata": {},
   "outputs": [],
   "source": [
    "import sklearn"
   ]
  },
  {
   "cell_type": "code",
   "execution_count": 102,
   "metadata": {},
   "outputs": [],
   "source": [
    "import json\n",
    "import os\n",
    "path = r'C:\\Users\\anu11\\Downloads\\CSCI5622-machine-learning-project-master\\CSCI5622-machine-learning-project-master\\TA-Data-Actual'\n"
   ]
  },
  {
   "cell_type": "code",
   "execution_count": 113,
   "metadata": {},
   "outputs": [
    {
     "data": {
      "text/plain": [
       "<_io.TextIOWrapper name='C:\\\\Users\\\\anu11\\\\Downloads\\\\CSCI5622-machine-learning-project-master\\\\CSCI5622-machine-learning-project-master\\\\TA-Data-Actual\\\\1013113.json' mode='r' encoding='cp1252'>"
      ]
     },
     "execution_count": 113,
     "metadata": {},
     "output_type": "execute_result"
    }
   ],
   "source": [
    " open(r'C:\\Users\\anu11\\Downloads\\CSCI5622-machine-learning-project-master\\CSCI5622-machine-learning-project-master\\TA-Data-Actual\\1013113.json')"
   ]
  },
  {
   "cell_type": "code",
   "execution_count": 115,
   "metadata": {},
   "outputs": [
    {
     "data": {
      "text/plain": [
       "['1013113.json',\n",
       " '1015437.json',\n",
       " '1017701.json',\n",
       " '1058557.json',\n",
       " '1069879.json',\n",
       " '1071861.json',\n",
       " '1074040.json',\n",
       " '1095334.json',\n",
       " '1104000.json',\n",
       " '111428.json',\n",
       " '1114417.json',\n",
       " '1117772.json',\n",
       " '1126628.json',\n",
       " '1129022.json',\n",
       " '1130863.json',\n",
       " '1133443.json',\n",
       " '113369.json',\n",
       " '1154921.json',\n",
       " '115780.json',\n",
       " '1160773.json',\n",
       " '1168477.json',\n",
       " '1170379.json',\n",
       " '1191102.json',\n",
       " '1202227.json',\n",
       " '1204926.json',\n",
       " '1208164.json',\n",
       " '1418811.json',\n",
       " '1461957.json',\n",
       " '1464950.json',\n",
       " '1487044.json',\n",
       " '149078.json',\n",
       " '1526898.json',\n",
       " '1547269.json',\n",
       " '1550390.json',\n",
       " '1718593.json',\n",
       " '1729448.json',\n",
       " '1733585.json',\n",
       " '1747320.json',\n",
       " '1751301.json',\n",
       " '1830878.json',\n",
       " '1905017.json',\n",
       " '191163.json',\n",
       " '2015190.json',\n",
       " '202962.json',\n",
       " '202976.json',\n",
       " '202977.json',\n",
       " '203002.json',\n",
       " '203229.json',\n",
       " '2085865.json',\n",
       " '214612.json',\n",
       " '217354.json',\n",
       " '224305.json',\n",
       " '2284110.json',\n",
       " '228577.json',\n",
       " '228926.json',\n",
       " '229442.json',\n",
       " '2298109.json',\n",
       " '231592.json',\n",
       " '232977.json',\n",
       " '2354829.json',\n",
       " '236980.json',\n",
       " '237506.json',\n",
       " '237518.json',\n",
       " '238552.json',\n",
       " '240085.json',\n",
       " '2457814.json',\n",
       " '249123.json',\n",
       " '2492334.json',\n",
       " '250130.json',\n",
       " '2507212.json',\n",
       " '2514740.json',\n",
       " '251953.json',\n",
       " '258609.json',\n",
       " '260171.json',\n",
       " '265071.json',\n",
       " '265074.json',\n",
       " '2658248.json',\n",
       " '2702170.json',\n",
       " '272744.json',\n",
       " '272971.json',\n",
       " '272980.json',\n",
       " '275041.json',\n",
       " '281639.json',\n",
       " '281838.json',\n",
       " '290491.json',\n",
       " '304606.json',\n",
       " '304636.json',\n",
       " '304808.json',\n",
       " '305584.json',\n",
       " '307674.json',\n",
       " '308906.json',\n",
       " '314116.json',\n",
       " '314199.json',\n",
       " '314201.json',\n",
       " '314208.json',\n",
       " '314859.json',\n",
       " '315553.json',\n",
       " '316297.json',\n",
       " '316489.json',\n",
       " '320985.json',\n",
       " '3249782.json',\n",
       " '3367757.json',\n",
       " '3546777.json',\n",
       " '3824768.json',\n",
       " '498781.json',\n",
       " '506955.json',\n",
       " '529061.json',\n",
       " '5320646.json',\n",
       " '535529 2.json',\n",
       " '535529.json',\n",
       " '535547.json',\n",
       " '551459.json',\n",
       " '5599825.json',\n",
       " '567678.json',\n",
       " '571609.json',\n",
       " '571739.json',\n",
       " '574117.json',\n",
       " '575291.json',\n",
       " '584451.json',\n",
       " '584696.json',\n",
       " '597012.json',\n",
       " '608295.json',\n",
       " '611947.json',\n",
       " '6390760.json',\n",
       " '6390812.json',\n",
       " '645086.json',\n",
       " '646039.json',\n",
       " '647702.json',\n",
       " '657754.json',\n",
       " '665075.json',\n",
       " '6770235.json',\n",
       " '679317.json',\n",
       " '6914978.json',\n",
       " '729891.json',\n",
       " '7303068.json',\n",
       " '7380584.json',\n",
       " '7613530.json',\n",
       " '7809477.json',\n",
       " '7910023.json',\n",
       " '84217.json',\n",
       " '84257.json',\n",
       " '84433.json',\n",
       " '8473177.json',\n",
       " '84943.json',\n",
       " '85342.json',\n",
       " '8690499.json',\n",
       " '87539.json',\n",
       " '87551.json',\n",
       " '87983.json',\n",
       " '93382.json',\n",
       " '944656.json',\n",
       " '952353.json',\n",
       " '9694736.json',\n",
       " '9772951.json']"
      ]
     },
     "execution_count": 115,
     "metadata": {},
     "output_type": "execute_result"
    }
   ],
   "source": [
    "os.listdir(path)"
   ]
  },
  {
   "cell_type": "code",
   "execution_count": 142,
   "metadata": {},
   "outputs": [
    {
     "name": "stdout",
     "output_type": "stream",
     "text": [
      "24\n",
      "63\n",
      "196\n",
      "19\n",
      "36\n",
      "62\n",
      "13\n",
      "835\n",
      "3078\n",
      "110\n",
      "94\n",
      "8\n",
      "95\n",
      "12\n",
      "44\n",
      "1634\n",
      "83\n",
      "57\n",
      "283\n",
      "16\n",
      "174\n",
      "87\n",
      "3238\n",
      "1083\n",
      "58\n",
      "11\n",
      "1904\n",
      "330\n",
      "145\n",
      "18\n",
      "117\n",
      "120\n",
      "22\n",
      "24\n",
      "10\n",
      "42\n",
      "64\n",
      "331\n",
      "124\n",
      "352\n",
      "1020\n",
      "757\n",
      "138\n",
      "260\n",
      "690\n",
      "1837\n",
      "3090\n",
      "2263\n",
      "137\n",
      "602\n",
      "494\n",
      "343\n",
      "22\n",
      "331\n",
      "523\n",
      "317\n",
      "191\n",
      "203\n",
      "1548\n",
      "1008\n",
      "197\n",
      "21\n",
      "562\n",
      "22\n",
      "32\n",
      "885\n",
      "11\n",
      "892\n",
      "790\n",
      "340\n",
      "21\n",
      "616\n",
      "1311\n",
      "71\n",
      "68\n",
      "40\n",
      "505\n",
      "664\n",
      "4\n",
      "769\n",
      "98\n",
      "798\n",
      "3\n",
      "699\n",
      "77\n",
      "130\n",
      "610\n",
      "112\n",
      "142\n",
      "1233\n",
      "1110\n",
      "33\n",
      "57\n",
      "8\n",
      "31\n",
      "434\n",
      "158\n",
      "587\n",
      "66\n",
      "369\n",
      "1\n",
      "1\n",
      "683\n",
      "165\n",
      "103\n",
      "45\n",
      "225\n",
      "47\n",
      "11\n",
      "40\n",
      "375\n",
      "263\n",
      "141\n",
      "10947\n",
      "1820\n",
      "1058\n",
      "87\n",
      "12\n",
      "2852\n",
      "846\n",
      "70\n",
      "11\n",
      "275\n",
      "172\n",
      "2\n",
      "52\n",
      "16\n",
      "55\n",
      "2747\n",
      "1546\n",
      "515\n",
      "18\n",
      "2336\n",
      "2293\n",
      "75\n",
      "604\n",
      "1380\n",
      "170\n",
      "1505\n",
      "150\n",
      "138\n",
      "13\n"
     ]
    }
   ],
   "source": [
    "#k = 0\n",
    "reviews = []\n",
    "for filename in os.listdir(path):\n",
    "    json_file = open(os.path.join(r'C:/Users/anu11/Downloads/CSCI5622-machine-learning-project-master/CSCI5622-machine-learning-project-master/TA-Data-Actual/'+filename),'r')\n",
    "    data = json.load(json_file)\n",
    "    #print(filename)\n",
    "    reviews_hotel = []\n",
    "    if os.path.getsize(os.path.join(r'C:/Users/anu11/Downloads/CSCI5622-machine-learning-project-master/CSCI5622-machine-learning-project-master/TA-Data-Actual/'+filename))>2:\n",
    "        #print(os.path.getsize(os.path.join(r'C:/Users/anu11/Downloads/CSCI5622-machine-learning-project-master/CSCI5622-machine-learning-project-master/TA-Data-Actual/'+filename)))\n",
    "        #print(k)\n",
    "        #k = k+1\n",
    "        print(len(data))\n",
    "        for i in range(len(data)):\n",
    "            reviews_hotel.append(data[i]['review'])\n",
    "    reviews.append(reviews_hotel)\n",
    "        #print(data[23])\n",
    "        #data[0]['review']"
   ]
  },
  {
   "cell_type": "code",
   "execution_count": 149,
   "metadata": {},
   "outputs": [
    {
     "name": "stdout",
     "output_type": "stream",
     "text": [
      "<class 'str'>\n"
     ]
    }
   ],
   "source": [
    "print(type(str(reviews[0])))"
   ]
  },
  {
   "cell_type": "code",
   "execution_count": 4,
   "metadata": {},
   "outputs": [],
   "source": [
    "from sklearn.feature_extraction.text import CountVectorizer"
   ]
  },
  {
   "cell_type": "code",
   "execution_count": 5,
   "metadata": {},
   "outputs": [],
   "source": [
    "vect = CountVectorizer()"
   ]
  },
  {
   "cell_type": "code",
   "execution_count": 6,
   "metadata": {},
   "outputs": [],
   "source": [
    "messages = ['Service is good and food is bad','Location is good']"
   ]
  },
  {
   "cell_type": "code",
   "execution_count": 7,
   "metadata": {},
   "outputs": [
    {
     "data": {
      "text/plain": [
       "CountVectorizer(analyzer='word', binary=False, decode_error='strict',\n",
       "                dtype=<class 'numpy.int64'>, encoding='utf-8', input='content',\n",
       "                lowercase=True, max_df=1.0, max_features=None, min_df=1,\n",
       "                ngram_range=(1, 1), preprocessor=None, stop_words=None,\n",
       "                strip_accents=None, token_pattern='(?u)\\\\b\\\\w\\\\w+\\\\b',\n",
       "                tokenizer=None, vocabulary=None)"
      ]
     },
     "execution_count": 7,
     "metadata": {},
     "output_type": "execute_result"
    }
   ],
   "source": [
    "vect.fit(messages)"
   ]
  },
  {
   "cell_type": "code",
   "execution_count": 8,
   "metadata": {},
   "outputs": [
    {
     "data": {
      "text/plain": [
       "['and', 'bad', 'food', 'good', 'is', 'location', 'service']"
      ]
     },
     "execution_count": 8,
     "metadata": {},
     "output_type": "execute_result"
    }
   ],
   "source": [
    "vect.get_feature_names()"
   ]
  },
  {
   "cell_type": "code",
   "execution_count": 13,
   "metadata": {},
   "outputs": [
    {
     "name": "stderr",
     "output_type": "stream",
     "text": [
      "[nltk_data] Downloading package punkt to\n",
      "[nltk_data]     C:\\Users\\anu11\\AppData\\Roaming\\nltk_data...\n",
      "[nltk_data]   Package punkt is already up-to-date!\n",
      "[nltk_data] Downloading package averaged_perceptron_tagger to\n",
      "[nltk_data]     C:\\Users\\anu11\\AppData\\Roaming\\nltk_data...\n",
      "[nltk_data]   Unzipping taggers\\averaged_perceptron_tagger.zip.\n"
     ]
    },
    {
     "data": {
      "text/plain": [
       "True"
      ]
     },
     "execution_count": 13,
     "metadata": {},
     "output_type": "execute_result"
    }
   ],
   "source": [
    "import nltk\n",
    "nltk.download('punkt')\n",
    "nltk.download('averaged_perceptron_tagger')"
   ]
  },
  {
   "cell_type": "code",
   "execution_count": 150,
   "metadata": {},
   "outputs": [
    {
     "ename": "KeyboardInterrupt",
     "evalue": "",
     "output_type": "error",
     "traceback": [
      "\u001b[1;31m---------------------------------------------------------------------------\u001b[0m",
      "\u001b[1;31mKeyboardInterrupt\u001b[0m                         Traceback (most recent call last)",
      "\u001b[1;32m<ipython-input-150-adcf085b66ec>\u001b[0m in \u001b[0;36m<module>\u001b[1;34m\u001b[0m\n\u001b[0;32m      3\u001b[0m \u001b[1;32mfor\u001b[0m \u001b[0mi\u001b[0m \u001b[1;32min\u001b[0m \u001b[0mrange\u001b[0m\u001b[1;33m(\u001b[0m\u001b[0mlen\u001b[0m\u001b[1;33m(\u001b[0m\u001b[0mreviews\u001b[0m\u001b[1;33m)\u001b[0m\u001b[1;33m)\u001b[0m\u001b[1;33m:\u001b[0m\u001b[1;33m\u001b[0m\u001b[1;33m\u001b[0m\u001b[0m\n\u001b[0;32m      4\u001b[0m     \u001b[0mtokens\u001b[0m \u001b[1;33m=\u001b[0m \u001b[0mnltk\u001b[0m\u001b[1;33m.\u001b[0m\u001b[0mword_tokenize\u001b[0m\u001b[1;33m(\u001b[0m\u001b[0mstr\u001b[0m\u001b[1;33m(\u001b[0m\u001b[0mreviews\u001b[0m\u001b[1;33m[\u001b[0m\u001b[0mi\u001b[0m\u001b[1;33m]\u001b[0m\u001b[1;33m)\u001b[0m\u001b[1;33m)\u001b[0m\u001b[1;33m\u001b[0m\u001b[1;33m\u001b[0m\u001b[0m\n\u001b[1;32m----> 5\u001b[1;33m     \u001b[0mres\u001b[0m \u001b[1;33m=\u001b[0m \u001b[0mnltk\u001b[0m\u001b[1;33m.\u001b[0m\u001b[0mpos_tag\u001b[0m\u001b[1;33m(\u001b[0m\u001b[0mtokens\u001b[0m\u001b[1;33m)\u001b[0m\u001b[1;33m\u001b[0m\u001b[1;33m\u001b[0m\u001b[0m\n\u001b[0m\u001b[0;32m      6\u001b[0m     \u001b[1;31m#print(res)\u001b[0m\u001b[1;33m\u001b[0m\u001b[1;33m\u001b[0m\u001b[1;33m\u001b[0m\u001b[0m\n\u001b[0;32m      7\u001b[0m     \u001b[0mpos_list\u001b[0m \u001b[1;33m=\u001b[0m \u001b[1;33m[\u001b[0m\u001b[1;33m]\u001b[0m\u001b[1;33m\u001b[0m\u001b[1;33m\u001b[0m\u001b[0m\n",
      "\u001b[1;32m~\\Anaconda3\\lib\\site-packages\\nltk\\tag\\__init__.py\u001b[0m in \u001b[0;36mpos_tag\u001b[1;34m(tokens, tagset, lang)\u001b[0m\n\u001b[0;32m    160\u001b[0m     \"\"\"\n\u001b[0;32m    161\u001b[0m     \u001b[0mtagger\u001b[0m \u001b[1;33m=\u001b[0m \u001b[0m_get_tagger\u001b[0m\u001b[1;33m(\u001b[0m\u001b[0mlang\u001b[0m\u001b[1;33m)\u001b[0m\u001b[1;33m\u001b[0m\u001b[1;33m\u001b[0m\u001b[0m\n\u001b[1;32m--> 162\u001b[1;33m     \u001b[1;32mreturn\u001b[0m \u001b[0m_pos_tag\u001b[0m\u001b[1;33m(\u001b[0m\u001b[0mtokens\u001b[0m\u001b[1;33m,\u001b[0m \u001b[0mtagset\u001b[0m\u001b[1;33m,\u001b[0m \u001b[0mtagger\u001b[0m\u001b[1;33m,\u001b[0m \u001b[0mlang\u001b[0m\u001b[1;33m)\u001b[0m\u001b[1;33m\u001b[0m\u001b[1;33m\u001b[0m\u001b[0m\n\u001b[0m\u001b[0;32m    163\u001b[0m \u001b[1;33m\u001b[0m\u001b[0m\n\u001b[0;32m    164\u001b[0m \u001b[1;33m\u001b[0m\u001b[0m\n",
      "\u001b[1;32m~\\Anaconda3\\lib\\site-packages\\nltk\\tag\\__init__.py\u001b[0m in \u001b[0;36m_pos_tag\u001b[1;34m(tokens, tagset, tagger, lang)\u001b[0m\n\u001b[0;32m    117\u001b[0m         )\n\u001b[0;32m    118\u001b[0m     \u001b[1;32melse\u001b[0m\u001b[1;33m:\u001b[0m\u001b[1;33m\u001b[0m\u001b[1;33m\u001b[0m\u001b[0m\n\u001b[1;32m--> 119\u001b[1;33m         \u001b[0mtagged_tokens\u001b[0m \u001b[1;33m=\u001b[0m \u001b[0mtagger\u001b[0m\u001b[1;33m.\u001b[0m\u001b[0mtag\u001b[0m\u001b[1;33m(\u001b[0m\u001b[0mtokens\u001b[0m\u001b[1;33m)\u001b[0m\u001b[1;33m\u001b[0m\u001b[1;33m\u001b[0m\u001b[0m\n\u001b[0m\u001b[0;32m    120\u001b[0m         \u001b[1;32mif\u001b[0m \u001b[0mtagset\u001b[0m\u001b[1;33m:\u001b[0m  \u001b[1;31m# Maps to the specified tagset.\u001b[0m\u001b[1;33m\u001b[0m\u001b[1;33m\u001b[0m\u001b[0m\n\u001b[0;32m    121\u001b[0m             \u001b[1;32mif\u001b[0m \u001b[0mlang\u001b[0m \u001b[1;33m==\u001b[0m \u001b[1;34m'eng'\u001b[0m\u001b[1;33m:\u001b[0m\u001b[1;33m\u001b[0m\u001b[1;33m\u001b[0m\u001b[0m\n",
      "\u001b[1;32m~\\Anaconda3\\lib\\site-packages\\nltk\\tag\\perceptron.py\u001b[0m in \u001b[0;36mtag\u001b[1;34m(self, tokens, return_conf, use_tagdict)\u001b[0m\n\u001b[0;32m    178\u001b[0m             \u001b[1;32mif\u001b[0m \u001b[1;32mnot\u001b[0m \u001b[0mtag\u001b[0m\u001b[1;33m:\u001b[0m\u001b[1;33m\u001b[0m\u001b[1;33m\u001b[0m\u001b[0m\n\u001b[0;32m    179\u001b[0m                 \u001b[0mfeatures\u001b[0m \u001b[1;33m=\u001b[0m \u001b[0mself\u001b[0m\u001b[1;33m.\u001b[0m\u001b[0m_get_features\u001b[0m\u001b[1;33m(\u001b[0m\u001b[0mi\u001b[0m\u001b[1;33m,\u001b[0m \u001b[0mword\u001b[0m\u001b[1;33m,\u001b[0m \u001b[0mcontext\u001b[0m\u001b[1;33m,\u001b[0m \u001b[0mprev\u001b[0m\u001b[1;33m,\u001b[0m \u001b[0mprev2\u001b[0m\u001b[1;33m)\u001b[0m\u001b[1;33m\u001b[0m\u001b[1;33m\u001b[0m\u001b[0m\n\u001b[1;32m--> 180\u001b[1;33m                 \u001b[0mtag\u001b[0m\u001b[1;33m,\u001b[0m \u001b[0mconf\u001b[0m \u001b[1;33m=\u001b[0m \u001b[0mself\u001b[0m\u001b[1;33m.\u001b[0m\u001b[0mmodel\u001b[0m\u001b[1;33m.\u001b[0m\u001b[0mpredict\u001b[0m\u001b[1;33m(\u001b[0m\u001b[0mfeatures\u001b[0m\u001b[1;33m,\u001b[0m \u001b[0mreturn_conf\u001b[0m\u001b[1;33m)\u001b[0m\u001b[1;33m\u001b[0m\u001b[1;33m\u001b[0m\u001b[0m\n\u001b[0m\u001b[0;32m    181\u001b[0m             \u001b[0moutput\u001b[0m\u001b[1;33m.\u001b[0m\u001b[0mappend\u001b[0m\u001b[1;33m(\u001b[0m\u001b[1;33m(\u001b[0m\u001b[0mword\u001b[0m\u001b[1;33m,\u001b[0m \u001b[0mtag\u001b[0m\u001b[1;33m,\u001b[0m \u001b[0mconf\u001b[0m\u001b[1;33m)\u001b[0m \u001b[1;32mif\u001b[0m \u001b[0mreturn_conf\u001b[0m \u001b[1;33m==\u001b[0m \u001b[1;32mTrue\u001b[0m \u001b[1;32melse\u001b[0m \u001b[1;33m(\u001b[0m\u001b[0mword\u001b[0m\u001b[1;33m,\u001b[0m \u001b[0mtag\u001b[0m\u001b[1;33m)\u001b[0m\u001b[1;33m)\u001b[0m\u001b[1;33m\u001b[0m\u001b[1;33m\u001b[0m\u001b[0m\n\u001b[0;32m    182\u001b[0m \u001b[1;33m\u001b[0m\u001b[0m\n",
      "\u001b[1;32m~\\Anaconda3\\lib\\site-packages\\nltk\\tag\\perceptron.py\u001b[0m in \u001b[0;36mpredict\u001b[1;34m(self, features, return_conf)\u001b[0m\n\u001b[0;32m     70\u001b[0m \u001b[1;33m\u001b[0m\u001b[0m\n\u001b[0;32m     71\u001b[0m         \u001b[1;31m# Do a secondary alphabetic sort, for stability\u001b[0m\u001b[1;33m\u001b[0m\u001b[1;33m\u001b[0m\u001b[1;33m\u001b[0m\u001b[0m\n\u001b[1;32m---> 72\u001b[1;33m         \u001b[0mbest_label\u001b[0m \u001b[1;33m=\u001b[0m  \u001b[0mmax\u001b[0m\u001b[1;33m(\u001b[0m\u001b[0mself\u001b[0m\u001b[1;33m.\u001b[0m\u001b[0mclasses\u001b[0m\u001b[1;33m,\u001b[0m \u001b[0mkey\u001b[0m\u001b[1;33m=\u001b[0m\u001b[1;32mlambda\u001b[0m \u001b[0mlabel\u001b[0m\u001b[1;33m:\u001b[0m \u001b[1;33m(\u001b[0m\u001b[0mscores\u001b[0m\u001b[1;33m[\u001b[0m\u001b[0mlabel\u001b[0m\u001b[1;33m]\u001b[0m\u001b[1;33m,\u001b[0m \u001b[0mlabel\u001b[0m\u001b[1;33m)\u001b[0m\u001b[1;33m)\u001b[0m\u001b[1;33m\u001b[0m\u001b[1;33m\u001b[0m\u001b[0m\n\u001b[0m\u001b[0;32m     73\u001b[0m         \u001b[1;31m# compute the confidence\u001b[0m\u001b[1;33m\u001b[0m\u001b[1;33m\u001b[0m\u001b[1;33m\u001b[0m\u001b[0m\n\u001b[0;32m     74\u001b[0m         \u001b[0mconf\u001b[0m \u001b[1;33m=\u001b[0m \u001b[0mmax\u001b[0m\u001b[1;33m(\u001b[0m\u001b[0mself\u001b[0m\u001b[1;33m.\u001b[0m\u001b[0m_softmax\u001b[0m\u001b[1;33m(\u001b[0m\u001b[0mscores\u001b[0m\u001b[1;33m)\u001b[0m\u001b[1;33m)\u001b[0m \u001b[1;32mif\u001b[0m \u001b[0mreturn_conf\u001b[0m \u001b[1;33m==\u001b[0m \u001b[1;32mTrue\u001b[0m \u001b[1;32melse\u001b[0m \u001b[1;32mNone\u001b[0m\u001b[1;33m\u001b[0m\u001b[1;33m\u001b[0m\u001b[0m\n",
      "\u001b[1;32m~\\Anaconda3\\lib\\site-packages\\nltk\\tag\\perceptron.py\u001b[0m in \u001b[0;36m<lambda>\u001b[1;34m(label)\u001b[0m\n\u001b[0;32m     70\u001b[0m \u001b[1;33m\u001b[0m\u001b[0m\n\u001b[0;32m     71\u001b[0m         \u001b[1;31m# Do a secondary alphabetic sort, for stability\u001b[0m\u001b[1;33m\u001b[0m\u001b[1;33m\u001b[0m\u001b[1;33m\u001b[0m\u001b[0m\n\u001b[1;32m---> 72\u001b[1;33m         \u001b[0mbest_label\u001b[0m \u001b[1;33m=\u001b[0m  \u001b[0mmax\u001b[0m\u001b[1;33m(\u001b[0m\u001b[0mself\u001b[0m\u001b[1;33m.\u001b[0m\u001b[0mclasses\u001b[0m\u001b[1;33m,\u001b[0m \u001b[0mkey\u001b[0m\u001b[1;33m=\u001b[0m\u001b[1;32mlambda\u001b[0m \u001b[0mlabel\u001b[0m\u001b[1;33m:\u001b[0m \u001b[1;33m(\u001b[0m\u001b[0mscores\u001b[0m\u001b[1;33m[\u001b[0m\u001b[0mlabel\u001b[0m\u001b[1;33m]\u001b[0m\u001b[1;33m,\u001b[0m \u001b[0mlabel\u001b[0m\u001b[1;33m)\u001b[0m\u001b[1;33m)\u001b[0m\u001b[1;33m\u001b[0m\u001b[1;33m\u001b[0m\u001b[0m\n\u001b[0m\u001b[0;32m     73\u001b[0m         \u001b[1;31m# compute the confidence\u001b[0m\u001b[1;33m\u001b[0m\u001b[1;33m\u001b[0m\u001b[1;33m\u001b[0m\u001b[0m\n\u001b[0;32m     74\u001b[0m         \u001b[0mconf\u001b[0m \u001b[1;33m=\u001b[0m \u001b[0mmax\u001b[0m\u001b[1;33m(\u001b[0m\u001b[0mself\u001b[0m\u001b[1;33m.\u001b[0m\u001b[0m_softmax\u001b[0m\u001b[1;33m(\u001b[0m\u001b[0mscores\u001b[0m\u001b[1;33m)\u001b[0m\u001b[1;33m)\u001b[0m \u001b[1;32mif\u001b[0m \u001b[0mreturn_conf\u001b[0m \u001b[1;33m==\u001b[0m \u001b[1;32mTrue\u001b[0m \u001b[1;32melse\u001b[0m \u001b[1;32mNone\u001b[0m\u001b[1;33m\u001b[0m\u001b[1;33m\u001b[0m\u001b[0m\n",
      "\u001b[1;31mKeyboardInterrupt\u001b[0m: "
     ]
    }
   ],
   "source": [
    "word_fin_list = []\n",
    "pos_fin_list = []\n",
    "for i in range(len(reviews)):\n",
    "    tokens = nltk.word_tokenize(str(reviews[i]))\n",
    "    res = nltk.pos_tag(tokens)\n",
    "    #print(res)\n",
    "    pos_list = []\n",
    "    word_list = []\n",
    "    for i in range(len(res)):\n",
    "        pos_list.append(res[i][1])\n",
    "        word_list.append(res[i][0])\n",
    "    pos_fin_list.append(pos_list)\n",
    "    word_fin_list.append(word_list)\n",
    "    #print(len(res))\n",
    "    #print(res[0][1])"
   ]
  },
  {
   "cell_type": "code",
   "execution_count": 39,
   "metadata": {},
   "outputs": [
    {
     "data": {
      "text/plain": [
       "[['Service', 'is', 'good', 'and', 'food', 'is', 'bad'],\n",
       " ['Location', 'is', 'good']]"
      ]
     },
     "execution_count": 39,
     "metadata": {},
     "output_type": "execute_result"
    }
   ],
   "source": [
    "word_fin_list"
   ]
  },
  {
   "cell_type": "code",
   "execution_count": 46,
   "metadata": {},
   "outputs": [
    {
     "data": {
      "text/plain": [
       "[['NNP', 'VBZ', 'JJ', 'CC', 'NN', 'VBZ', 'JJ'], ['NN', 'VBZ', 'JJ']]"
      ]
     },
     "execution_count": 46,
     "metadata": {},
     "output_type": "execute_result"
    }
   ],
   "source": [
    "pos_fin_list"
   ]
  },
  {
   "cell_type": "code",
   "execution_count": 57,
   "metadata": {},
   "outputs": [
    {
     "name": "stdout",
     "output_type": "stream",
     "text": [
      "2\n",
      "6\n",
      "2\n"
     ]
    }
   ],
   "source": [
    "feature_list = []\n",
    "for i in range(len(word_fin_list)):\n",
    "    for j in range(len(word_fin_list[i])):\n",
    "        if pos_fin_list[i][j]=='NNP' or pos_fin_list[i][j]=='NN':\n",
    "            #print(i,j)\n",
    "            #print(word_list[i][j])\n",
    "            \n",
    "            for k in range(j+1,len(word_fin_list[i])):\n",
    "                #print(i,k)\n",
    "                if pos_fin_list[i][k]=='CC':\n",
    "                    break\n",
    "                if pos_fin_list[i][k]=='JJ':\n",
    "                    print(k)\n",
    "                    feature_list.append(word_fin_list[i][j])\n",
    "        #feature_list.append()"
   ]
  },
  {
   "cell_type": "code",
   "execution_count": 58,
   "metadata": {},
   "outputs": [
    {
     "data": {
      "text/plain": [
       "['Service', 'food', 'Location']"
      ]
     },
     "execution_count": 58,
     "metadata": {},
     "output_type": "execute_result"
    }
   ],
   "source": [
    "feature_list"
   ]
  },
  {
   "cell_type": "code",
   "execution_count": 91,
   "metadata": {},
   "outputs": [],
   "source": [
    "messages_1 = []\n",
    "conjunctions_list = ['and']\n",
    "for i in range(len(messages)):\n",
    "    for j in conjunctions_list:\n",
    "        messages_1.append(messages[i].split(j))"
   ]
  },
  {
   "cell_type": "code",
   "execution_count": 94,
   "metadata": {},
   "outputs": [
    {
     "name": "stdout",
     "output_type": "stream",
     "text": [
      "['Service is good ', ' food is bad', 'Location is good']\n"
     ]
    }
   ],
   "source": [
    "#print(messages_1)\n",
    "messages_new = []\n",
    "for j in range(len(messages_1)):\n",
    "    for k in range(len(messages_1[j])):\n",
    "        #word_sp = messages_1[j].split(' ')\n",
    "        #print(messages_1[j][k])\n",
    "        messages_new.append(messages_1[j][k])\n",
    "            #messages_new.append(j)\n",
    "print(messages_new)"
   ]
  },
  {
   "cell_type": "code",
   "execution_count": 64,
   "metadata": {},
   "outputs": [],
   "source": [
    "word_fin_list_1 = []\n",
    "for i in range(len(word_fin_list)):\n",
    "    word_fin_list_int = []\n",
    "    for j in range(len(word_fin_list[i])):\n",
    "        \n",
    "        if pos_fin_list[i][j]=='CC':\n",
    "            continue\n",
    "        else:\n",
    "            word_fin_list_int.append(word_fin_list[i][j])\n",
    "    word_fin_list_1.append(word_fin_list_int)"
   ]
  },
  {
   "cell_type": "code",
   "execution_count": null,
   "metadata": {},
   "outputs": [],
   "source": []
  },
  {
   "cell_type": "code",
   "execution_count": 65,
   "metadata": {},
   "outputs": [
    {
     "data": {
      "text/plain": [
       "[['Service', 'is', 'good', 'food', 'is', 'bad'], ['Location', 'is', 'good']]"
      ]
     },
     "execution_count": 65,
     "metadata": {},
     "output_type": "execute_result"
    }
   ],
   "source": [
    "word_fin_list_1"
   ]
  },
  {
   "cell_type": "code",
   "execution_count": 59,
   "metadata": {},
   "outputs": [],
   "source": [
    "from vaderSentiment.vaderSentiment import SentimentIntensityAnalyzer"
   ]
  },
  {
   "cell_type": "code",
   "execution_count": 98,
   "metadata": {},
   "outputs": [
    {
     "name": "stdout",
     "output_type": "stream",
     "text": [
      "{'neg': 0.0, 'neu': 0.408, 'pos': 0.592, 'compound': 0.4404}\n"
     ]
    }
   ],
   "source": [
    "a1 = SentimentIntensityAnalyzer()\n",
    "scores = a1.polarity_scores(messages_new[0])\n",
    "print(scores)"
   ]
  },
  {
   "cell_type": "code",
   "execution_count": 63,
   "metadata": {},
   "outputs": [
    {
     "data": {
      "text/plain": [
       "0.4094333333333333"
      ]
     },
     "execution_count": 63,
     "metadata": {},
     "output_type": "execute_result"
    }
   ],
   "source": [
    "(2*scores['pos']+1.5*scores['neu']+1.5*scores['compound']+1*scores['neg'])/6"
   ]
  },
  {
   "cell_type": "code",
   "execution_count": null,
   "metadata": {},
   "outputs": [],
   "source": []
  }
 ],
 "metadata": {
  "kernelspec": {
   "display_name": "Python 3",
   "language": "python",
   "name": "python3"
  },
  "language_info": {
   "codemirror_mode": {
    "name": "ipython",
    "version": 3
   },
   "file_extension": ".py",
   "mimetype": "text/x-python",
   "name": "python",
   "nbconvert_exporter": "python",
   "pygments_lexer": "ipython3",
   "version": "3.7.4"
  }
 },
 "nbformat": 4,
 "nbformat_minor": 2
}
